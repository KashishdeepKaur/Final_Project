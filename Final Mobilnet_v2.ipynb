{
 "cells": [
  {
   "cell_type": "markdown",
   "id": "09ba8abb",
   "metadata": {},
   "source": [
    "# Step 1: Import Required Libraries\n",
    "This step loads all necessary libraries for preprocessing, model creation, and training."
   ]
  },
  {
   "cell_type": "code",
   "execution_count": 9,
   "id": "cbb41be4",
   "metadata": {},
   "outputs": [
    {
     "name": "stdout",
     "output_type": "stream",
     "text": [
      "\n",
      "🔍 Verifying structure in: E:/final_dataset/train\n",
      "✅ Found 7 class folders: ['angry', 'disgust', 'fear', 'happy', 'neutral', 'sad', 'surprised']\n",
      "📁 angry -> 1578 .png files\n",
      "📁 disgust -> 1582 .png files\n",
      "📁 fear -> 1588 .png files\n",
      "📁 happy -> 1594 .png files\n",
      "📁 neutral -> 1352 .png files\n",
      "📁 sad -> 1591 .png files\n",
      "📁 surprised -> 184 .png files\n",
      "🧮 Total image files in E:/final_dataset/train: 9469\n",
      "\n",
      "🔍 Verifying structure in: E:/final_dataset/val\n",
      "✅ Found 7 class folders: ['angry', 'disgust', 'fear', 'happy', 'neutral', 'sad', 'surprised']\n",
      "📁 angry -> 466 .png files\n",
      "📁 disgust -> 469 .png files\n",
      "📁 fear -> 468 .png files\n",
      "📁 happy -> 471 .png files\n",
      "📁 neutral -> 401 .png files\n",
      "📁 sad -> 466 .png files\n",
      "📁 surprised -> 69 .png files\n",
      "🧮 Total image files in E:/final_dataset/val: 2810\n"
     ]
    }
   ],
   "source": [
    "import os\n",
    "from collections import Counter\n",
    "\n",
    "def verify_dataset_structure(base_path):\n",
    "    print(f\"\\n🔍 Verifying structure in: {base_path}\")\n",
    "    \n",
    "    # Check if the base path exists\n",
    "    if not os.path.exists(base_path):\n",
    "        print(\"❌ Error: Path does not exist.\")\n",
    "        return\n",
    "    \n",
    "    # List class folders\n",
    "    class_folders = [f for f in os.listdir(base_path) if os.path.isdir(os.path.join(base_path, f))]\n",
    "    print(f\"✅ Found {len(class_folders)} class folders: {class_folders}\")\n",
    "    \n",
    "    # Count files in each class\n",
    "    file_counter = Counter()\n",
    "    total_files = 0\n",
    "\n",
    "    for class_folder in class_folders:\n",
    "        class_path = os.path.join(base_path, class_folder)\n",
    "        png_files = [f for f in os.listdir(class_path) if f.lower().endswith('.png')]\n",
    "        count = len(png_files)\n",
    "        file_counter[class_folder] = count\n",
    "        total_files += count\n",
    "        print(f\"📁 {class_folder} -> {count} .png files\")\n",
    "\n",
    "    print(f\"🧮 Total image files in {base_path}: {total_files}\")\n",
    "    return file_counter\n",
    "\n",
    "# Run verification\n",
    "train_counts = verify_dataset_structure(\"E:/final_dataset/train\")\n",
    "val_counts = verify_dataset_structure(\"E:/final_dataset/val\")\n"
   ]
  },
  {
   "cell_type": "markdown",
   "id": "9a85437d",
   "metadata": {},
   "source": [
    "# Step 2: Set Dataset Path and Parameters\n",
    "Define dataset directory and relevant constants."
   ]
  },
  {
   "cell_type": "code",
   "execution_count": 1,
   "id": "460aa202",
   "metadata": {},
   "outputs": [],
   "source": [
    "import os\n",
    "import numpy as np\n",
    "import matplotlib.pyplot as plt\n",
    "import tensorflow as tf\n",
    "from tensorflow.keras import layers, models\n",
    "from tensorflow.keras.applications import MobileNetV2\n",
    "from tensorflow.keras.callbacks import ModelCheckpoint, EarlyStopping, ReduceLROnPlateau\n",
    "from sklearn.metrics import classification_report, confusion_matrix\n",
    "import seaborn as sns\n"
   ]
  },
  {
   "cell_type": "code",
   "execution_count": 10,
   "id": "cb90cc92",
   "metadata": {},
   "outputs": [
    {
     "name": "stdout",
     "output_type": "stream",
     "text": [
      "Found 9469 files belonging to 7 classes.\n",
      "Found 2810 files belonging to 7 classes.\n",
      "Classes (7): ['angry', 'disgust', 'fear', 'happy', 'neutral', 'sad', 'surprised']\n"
     ]
    }
   ],
   "source": [
    "import tensorflow as tf\n",
    "\n",
    "# Paths\n",
    "train_path = \"E:/final_dataset/train\"\n",
    "val_path = \"E:/final_dataset/val\"\n",
    "\n",
    "# Constants\n",
    "IMG_SIZE = (96, 128)\n",
    "BATCH_SIZE = 32\n",
    "AUTOTUNE = tf.data.AUTOTUNE\n",
    "\n",
    "# Load training dataset\n",
    "train_ds = tf.keras.preprocessing.image_dataset_from_directory(\n",
    "    train_path,\n",
    "    image_size=IMG_SIZE,\n",
    "    batch_size=BATCH_SIZE,\n",
    "    shuffle=True,\n",
    "    seed=42\n",
    ")\n",
    "\n",
    "# Load validation dataset\n",
    "val_ds = tf.keras.preprocessing.image_dataset_from_directory(\n",
    "    val_path,\n",
    "    image_size=IMG_SIZE,\n",
    "    batch_size=BATCH_SIZE,\n",
    "    shuffle=False\n",
    ")\n",
    "\n",
    "# Extract class names BEFORE prefetching\n",
    "class_names = train_ds.class_names\n",
    "num_classes = len(class_names)\n",
    "print(f\"Classes ({num_classes}): {class_names}\")\n",
    "\n",
    "# Prefetch for performance\n",
    "train_ds = train_ds.prefetch(buffer_size=AUTOTUNE)\n",
    "val_ds = val_ds.prefetch(buffer_size=AUTOTUNE)\n"
   ]
  },
  {
   "cell_type": "markdown",
   "id": "362eade2",
   "metadata": {},
   "source": [
    "# Step 3: Data Augmentation and Preprocessing\n",
    "Apply preprocessing and augmentation for training and validation data."
   ]
  },
  {
   "cell_type": "code",
   "execution_count": 3,
   "id": "88f43c8f",
   "metadata": {},
   "outputs": [],
   "source": [
    "preprocess_input = tf.keras.applications.mobilenet_v2.preprocess_input\n"
   ]
  },
  {
   "cell_type": "markdown",
   "id": "5d2a1295",
   "metadata": {},
   "source": [
    "# Step 4: Load and Preprocess the Dataset\n",
    "Use `image_dataset_from_directory` to load train and validation datasets."
   ]
  },
  {
   "cell_type": "code",
   "execution_count": 4,
   "id": "89d6bd39",
   "metadata": {},
   "outputs": [
    {
     "name": "stderr",
     "output_type": "stream",
     "text": [
      "C:\\Users\\ALL\\AppData\\Local\\Temp\\ipykernel_9264\\301511100.py:1: UserWarning: `input_shape` is undefined or non-square, or `rows` is not in [96, 128, 160, 192, 224]. Weights for input shape (224, 224) will be loaded as the default.\n",
      "  base_model = MobileNetV2(input_shape=IMG_SIZE + (3,),\n"
     ]
    },
    {
     "data": {
      "text/html": [
       "<pre style=\"white-space:pre;overflow-x:auto;line-height:normal;font-family:Menlo,'DejaVu Sans Mono',consolas,'Courier New',monospace\"><span style=\"font-weight: bold\">Model: \"sequential\"</span>\n",
       "</pre>\n"
      ],
      "text/plain": [
       "\u001b[1mModel: \"sequential\"\u001b[0m\n"
      ]
     },
     "metadata": {},
     "output_type": "display_data"
    },
    {
     "data": {
      "text/html": [
       "<pre style=\"white-space:pre;overflow-x:auto;line-height:normal;font-family:Menlo,'DejaVu Sans Mono',consolas,'Courier New',monospace\">┏━━━━━━━━━━━━━━━━━━━━━━━━━━━━━━━━━━━━━━┳━━━━━━━━━━━━━━━━━━━━━━━━━━━━━┳━━━━━━━━━━━━━━━━━┓\n",
       "┃<span style=\"font-weight: bold\"> Layer (type)                         </span>┃<span style=\"font-weight: bold\"> Output Shape                </span>┃<span style=\"font-weight: bold\">         Param # </span>┃\n",
       "┡━━━━━━━━━━━━━━━━━━━━━━━━━━━━━━━━━━━━━━╇━━━━━━━━━━━━━━━━━━━━━━━━━━━━━╇━━━━━━━━━━━━━━━━━┩\n",
       "│ rescaling (<span style=\"color: #0087ff; text-decoration-color: #0087ff\">Rescaling</span>)                │ (<span style=\"color: #00d7ff; text-decoration-color: #00d7ff\">None</span>, <span style=\"color: #00af00; text-decoration-color: #00af00\">96</span>, <span style=\"color: #00af00; text-decoration-color: #00af00\">128</span>, <span style=\"color: #00af00; text-decoration-color: #00af00\">3</span>)          │               <span style=\"color: #00af00; text-decoration-color: #00af00\">0</span> │\n",
       "├──────────────────────────────────────┼─────────────────────────────┼─────────────────┤\n",
       "│ mobilenetv2_1.00_224 (<span style=\"color: #0087ff; text-decoration-color: #0087ff\">Functional</span>)    │ (<span style=\"color: #00d7ff; text-decoration-color: #00d7ff\">None</span>, <span style=\"color: #00af00; text-decoration-color: #00af00\">3</span>, <span style=\"color: #00af00; text-decoration-color: #00af00\">4</span>, <span style=\"color: #00af00; text-decoration-color: #00af00\">1280</span>)          │       <span style=\"color: #00af00; text-decoration-color: #00af00\">2,257,984</span> │\n",
       "├──────────────────────────────────────┼─────────────────────────────┼─────────────────┤\n",
       "│ global_average_pooling2d             │ (<span style=\"color: #00d7ff; text-decoration-color: #00d7ff\">None</span>, <span style=\"color: #00af00; text-decoration-color: #00af00\">1280</span>)                │               <span style=\"color: #00af00; text-decoration-color: #00af00\">0</span> │\n",
       "│ (<span style=\"color: #0087ff; text-decoration-color: #0087ff\">GlobalAveragePooling2D</span>)             │                             │                 │\n",
       "├──────────────────────────────────────┼─────────────────────────────┼─────────────────┤\n",
       "│ dropout (<span style=\"color: #0087ff; text-decoration-color: #0087ff\">Dropout</span>)                    │ (<span style=\"color: #00d7ff; text-decoration-color: #00d7ff\">None</span>, <span style=\"color: #00af00; text-decoration-color: #00af00\">1280</span>)                │               <span style=\"color: #00af00; text-decoration-color: #00af00\">0</span> │\n",
       "├──────────────────────────────────────┼─────────────────────────────┼─────────────────┤\n",
       "│ dense (<span style=\"color: #0087ff; text-decoration-color: #0087ff\">Dense</span>)                        │ (<span style=\"color: #00d7ff; text-decoration-color: #00d7ff\">None</span>, <span style=\"color: #00af00; text-decoration-color: #00af00\">128</span>)                 │         <span style=\"color: #00af00; text-decoration-color: #00af00\">163,968</span> │\n",
       "├──────────────────────────────────────┼─────────────────────────────┼─────────────────┤\n",
       "│ dropout_1 (<span style=\"color: #0087ff; text-decoration-color: #0087ff\">Dropout</span>)                  │ (<span style=\"color: #00d7ff; text-decoration-color: #00d7ff\">None</span>, <span style=\"color: #00af00; text-decoration-color: #00af00\">128</span>)                 │               <span style=\"color: #00af00; text-decoration-color: #00af00\">0</span> │\n",
       "├──────────────────────────────────────┼─────────────────────────────┼─────────────────┤\n",
       "│ dense_1 (<span style=\"color: #0087ff; text-decoration-color: #0087ff\">Dense</span>)                      │ (<span style=\"color: #00d7ff; text-decoration-color: #00d7ff\">None</span>, <span style=\"color: #00af00; text-decoration-color: #00af00\">7</span>)                   │             <span style=\"color: #00af00; text-decoration-color: #00af00\">903</span> │\n",
       "└──────────────────────────────────────┴─────────────────────────────┴─────────────────┘\n",
       "</pre>\n"
      ],
      "text/plain": [
       "┏━━━━━━━━━━━━━━━━━━━━━━━━━━━━━━━━━━━━━━┳━━━━━━━━━━━━━━━━━━━━━━━━━━━━━┳━━━━━━━━━━━━━━━━━┓\n",
       "┃\u001b[1m \u001b[0m\u001b[1mLayer (type)                        \u001b[0m\u001b[1m \u001b[0m┃\u001b[1m \u001b[0m\u001b[1mOutput Shape               \u001b[0m\u001b[1m \u001b[0m┃\u001b[1m \u001b[0m\u001b[1m        Param #\u001b[0m\u001b[1m \u001b[0m┃\n",
       "┡━━━━━━━━━━━━━━━━━━━━━━━━━━━━━━━━━━━━━━╇━━━━━━━━━━━━━━━━━━━━━━━━━━━━━╇━━━━━━━━━━━━━━━━━┩\n",
       "│ rescaling (\u001b[38;5;33mRescaling\u001b[0m)                │ (\u001b[38;5;45mNone\u001b[0m, \u001b[38;5;34m96\u001b[0m, \u001b[38;5;34m128\u001b[0m, \u001b[38;5;34m3\u001b[0m)          │               \u001b[38;5;34m0\u001b[0m │\n",
       "├──────────────────────────────────────┼─────────────────────────────┼─────────────────┤\n",
       "│ mobilenetv2_1.00_224 (\u001b[38;5;33mFunctional\u001b[0m)    │ (\u001b[38;5;45mNone\u001b[0m, \u001b[38;5;34m3\u001b[0m, \u001b[38;5;34m4\u001b[0m, \u001b[38;5;34m1280\u001b[0m)          │       \u001b[38;5;34m2,257,984\u001b[0m │\n",
       "├──────────────────────────────────────┼─────────────────────────────┼─────────────────┤\n",
       "│ global_average_pooling2d             │ (\u001b[38;5;45mNone\u001b[0m, \u001b[38;5;34m1280\u001b[0m)                │               \u001b[38;5;34m0\u001b[0m │\n",
       "│ (\u001b[38;5;33mGlobalAveragePooling2D\u001b[0m)             │                             │                 │\n",
       "├──────────────────────────────────────┼─────────────────────────────┼─────────────────┤\n",
       "│ dropout (\u001b[38;5;33mDropout\u001b[0m)                    │ (\u001b[38;5;45mNone\u001b[0m, \u001b[38;5;34m1280\u001b[0m)                │               \u001b[38;5;34m0\u001b[0m │\n",
       "├──────────────────────────────────────┼─────────────────────────────┼─────────────────┤\n",
       "│ dense (\u001b[38;5;33mDense\u001b[0m)                        │ (\u001b[38;5;45mNone\u001b[0m, \u001b[38;5;34m128\u001b[0m)                 │         \u001b[38;5;34m163,968\u001b[0m │\n",
       "├──────────────────────────────────────┼─────────────────────────────┼─────────────────┤\n",
       "│ dropout_1 (\u001b[38;5;33mDropout\u001b[0m)                  │ (\u001b[38;5;45mNone\u001b[0m, \u001b[38;5;34m128\u001b[0m)                 │               \u001b[38;5;34m0\u001b[0m │\n",
       "├──────────────────────────────────────┼─────────────────────────────┼─────────────────┤\n",
       "│ dense_1 (\u001b[38;5;33mDense\u001b[0m)                      │ (\u001b[38;5;45mNone\u001b[0m, \u001b[38;5;34m7\u001b[0m)                   │             \u001b[38;5;34m903\u001b[0m │\n",
       "└──────────────────────────────────────┴─────────────────────────────┴─────────────────┘\n"
      ]
     },
     "metadata": {},
     "output_type": "display_data"
    },
    {
     "data": {
      "text/html": [
       "<pre style=\"white-space:pre;overflow-x:auto;line-height:normal;font-family:Menlo,'DejaVu Sans Mono',consolas,'Courier New',monospace\"><span style=\"font-weight: bold\"> Total params: </span><span style=\"color: #00af00; text-decoration-color: #00af00\">2,422,855</span> (9.24 MB)\n",
       "</pre>\n"
      ],
      "text/plain": [
       "\u001b[1m Total params: \u001b[0m\u001b[38;5;34m2,422,855\u001b[0m (9.24 MB)\n"
      ]
     },
     "metadata": {},
     "output_type": "display_data"
    },
    {
     "data": {
      "text/html": [
       "<pre style=\"white-space:pre;overflow-x:auto;line-height:normal;font-family:Menlo,'DejaVu Sans Mono',consolas,'Courier New',monospace\"><span style=\"font-weight: bold\"> Trainable params: </span><span style=\"color: #00af00; text-decoration-color: #00af00\">164,871</span> (644.03 KB)\n",
       "</pre>\n"
      ],
      "text/plain": [
       "\u001b[1m Trainable params: \u001b[0m\u001b[38;5;34m164,871\u001b[0m (644.03 KB)\n"
      ]
     },
     "metadata": {},
     "output_type": "display_data"
    },
    {
     "data": {
      "text/html": [
       "<pre style=\"white-space:pre;overflow-x:auto;line-height:normal;font-family:Menlo,'DejaVu Sans Mono',consolas,'Courier New',monospace\"><span style=\"font-weight: bold\"> Non-trainable params: </span><span style=\"color: #00af00; text-decoration-color: #00af00\">2,257,984</span> (8.61 MB)\n",
       "</pre>\n"
      ],
      "text/plain": [
       "\u001b[1m Non-trainable params: \u001b[0m\u001b[38;5;34m2,257,984\u001b[0m (8.61 MB)\n"
      ]
     },
     "metadata": {},
     "output_type": "display_data"
    }
   ],
   "source": [
    "base_model = MobileNetV2(input_shape=IMG_SIZE + (3,),\n",
    "                         include_top=False,\n",
    "                         weights='imagenet')\n",
    "base_model.trainable = False  # Freeze base\n",
    "\n",
    "model = models.Sequential([\n",
    "    layers.Input(shape=IMG_SIZE + (3,)),\n",
    "    layers.Rescaling(1./127.5, offset=-1),  # Same as preprocess_input\n",
    "    base_model,\n",
    "    layers.GlobalAveragePooling2D(),\n",
    "    layers.Dropout(0.3),\n",
    "    layers.Dense(128, activation='relu'),\n",
    "    layers.Dropout(0.2),\n",
    "    layers.Dense(num_classes, activation='softmax')\n",
    "])\n",
    "\n",
    "model.compile(optimizer='adam',\n",
    "              loss='sparse_categorical_crossentropy',\n",
    "              metrics=['accuracy'])\n",
    "\n",
    "model.summary()\n"
   ]
  },
  {
   "cell_type": "markdown",
   "id": "771511f5",
   "metadata": {},
   "source": [
    "# Step 5: Configure Performance Settings\n",
    "Configure dataset for performance using caching and prefetching."
   ]
  },
  {
   "cell_type": "code",
   "execution_count": 5,
   "id": "ed89533a",
   "metadata": {},
   "outputs": [],
   "source": [
    "checkpoint = ModelCheckpoint(\"E:/mobilenet_best_model.keras\", monitor='val_accuracy', save_best_only=True)\n",
    "early_stop = EarlyStopping(monitor='val_accuracy', patience=5, restore_best_weights=True)\n",
    "reduce_lr = ReduceLROnPlateau(monitor='val_loss', factor=0.3, patience=3, verbose=1)\n",
    "\n",
    "callbacks = [checkpoint, early_stop, reduce_lr]\n"
   ]
  },
  {
   "cell_type": "markdown",
   "id": "1c5c63de",
   "metadata": {},
   "source": [
    "# Step 6: Load MobileNetV2 Base Model\n",
    "Load pretrained MobileNetV2 without top layer and freeze its weights."
   ]
  },
  {
   "cell_type": "code",
   "execution_count": 6,
   "id": "1d12a354",
   "metadata": {},
   "outputs": [
    {
     "name": "stdout",
     "output_type": "stream",
     "text": [
      "Epoch 1/15\n",
      "\u001b[1m296/296\u001b[0m \u001b[32m━━━━━━━━━━━━━━━━━━━━\u001b[0m\u001b[37m\u001b[0m \u001b[1m101s\u001b[0m 324ms/step - accuracy: 0.3251 - loss: 1.7889 - val_accuracy: 0.5285 - val_loss: 1.1974 - learning_rate: 0.0010\n",
      "Epoch 2/15\n",
      "\u001b[1m296/296\u001b[0m \u001b[32m━━━━━━━━━━━━━━━━━━━━\u001b[0m\u001b[37m\u001b[0m \u001b[1m93s\u001b[0m 314ms/step - accuracy: 0.4831 - loss: 1.2931 - val_accuracy: 0.5512 - val_loss: 1.1290 - learning_rate: 0.0010\n",
      "Epoch 3/15\n",
      "\u001b[1m296/296\u001b[0m \u001b[32m━━━━━━━━━━━━━━━━━━━━\u001b[0m\u001b[37m\u001b[0m \u001b[1m93s\u001b[0m 314ms/step - accuracy: 0.5153 - loss: 1.2135 - val_accuracy: 0.5819 - val_loss: 1.0756 - learning_rate: 0.0010\n",
      "Epoch 4/15\n",
      "\u001b[1m296/296\u001b[0m \u001b[32m━━━━━━━━━━━━━━━━━━━━\u001b[0m\u001b[37m\u001b[0m \u001b[1m114s\u001b[0m 385ms/step - accuracy: 0.5354 - loss: 1.1769 - val_accuracy: 0.5936 - val_loss: 1.0301 - learning_rate: 0.0010\n",
      "Epoch 5/15\n",
      "\u001b[1m296/296\u001b[0m \u001b[32m━━━━━━━━━━━━━━━━━━━━\u001b[0m\u001b[37m\u001b[0m \u001b[1m121s\u001b[0m 314ms/step - accuracy: 0.5376 - loss: 1.1587 - val_accuracy: 0.6011 - val_loss: 1.0128 - learning_rate: 0.0010\n",
      "Epoch 6/15\n",
      "\u001b[1m296/296\u001b[0m \u001b[32m━━━━━━━━━━━━━━━━━━━━\u001b[0m\u001b[37m\u001b[0m \u001b[1m93s\u001b[0m 313ms/step - accuracy: 0.5566 - loss: 1.1237 - val_accuracy: 0.6004 - val_loss: 1.0157 - learning_rate: 0.0010\n",
      "Epoch 7/15\n",
      "\u001b[1m296/296\u001b[0m \u001b[32m━━━━━━━━━━━━━━━━━━━━\u001b[0m\u001b[37m\u001b[0m \u001b[1m93s\u001b[0m 314ms/step - accuracy: 0.5547 - loss: 1.1161 - val_accuracy: 0.6117 - val_loss: 0.9879 - learning_rate: 0.0010\n",
      "Epoch 8/15\n",
      "\u001b[1m296/296\u001b[0m \u001b[32m━━━━━━━━━━━━━━━━━━━━\u001b[0m\u001b[37m\u001b[0m \u001b[1m93s\u001b[0m 314ms/step - accuracy: 0.5609 - loss: 1.0963 - val_accuracy: 0.6249 - val_loss: 0.9727 - learning_rate: 0.0010\n",
      "Epoch 9/15\n",
      "\u001b[1m296/296\u001b[0m \u001b[32m━━━━━━━━━━━━━━━━━━━━\u001b[0m\u001b[37m\u001b[0m \u001b[1m93s\u001b[0m 313ms/step - accuracy: 0.5641 - loss: 1.0946 - val_accuracy: 0.6000 - val_loss: 1.0024 - learning_rate: 0.0010\n",
      "Epoch 10/15\n",
      "\u001b[1m296/296\u001b[0m \u001b[32m━━━━━━━━━━━━━━━━━━━━\u001b[0m\u001b[37m\u001b[0m \u001b[1m93s\u001b[0m 313ms/step - accuracy: 0.5675 - loss: 1.0751 - val_accuracy: 0.6210 - val_loss: 0.9786 - learning_rate: 0.0010\n",
      "Epoch 11/15\n",
      "\u001b[1m296/296\u001b[0m \u001b[32m━━━━━━━━━━━━━━━━━━━━\u001b[0m\u001b[37m\u001b[0m \u001b[1m93s\u001b[0m 313ms/step - accuracy: 0.5792 - loss: 1.0705 - val_accuracy: 0.6210 - val_loss: 0.9663 - learning_rate: 0.0010\n",
      "Epoch 12/15\n",
      "\u001b[1m296/296\u001b[0m \u001b[32m━━━━━━━━━━━━━━━━━━━━\u001b[0m\u001b[37m\u001b[0m \u001b[1m93s\u001b[0m 313ms/step - accuracy: 0.5766 - loss: 1.0630 - val_accuracy: 0.6171 - val_loss: 0.9730 - learning_rate: 0.0010\n",
      "Epoch 13/15\n",
      "\u001b[1m296/296\u001b[0m \u001b[32m━━━━━━━━━━━━━━━━━━━━\u001b[0m\u001b[37m\u001b[0m \u001b[1m93s\u001b[0m 313ms/step - accuracy: 0.5777 - loss: 1.0572 - val_accuracy: 0.6214 - val_loss: 0.9535 - learning_rate: 0.0010\n"
     ]
    }
   ],
   "source": [
    "history = model.fit(\n",
    "    train_ds,\n",
    "    validation_data=val_ds,\n",
    "    epochs=15,\n",
    "    callbacks=callbacks\n",
    ")\n"
   ]
  },
  {
   "cell_type": "markdown",
   "id": "91d6743a",
   "metadata": {},
   "source": [
    "# Step 7: Add Custom Classification Head\n",
    "Add global average pooling and dense output layer to MobileNetV2 base."
   ]
  },
  {
   "cell_type": "code",
   "execution_count": 7,
   "id": "3916fce3",
   "metadata": {},
   "outputs": [
    {
     "name": "stdout",
     "output_type": "stream",
     "text": [
      "Epoch 1/10\n",
      "\u001b[1m296/296\u001b[0m \u001b[32m━━━━━━━━━━━━━━━━━━━━\u001b[0m\u001b[37m\u001b[0m \u001b[1m450s\u001b[0m 1s/step - accuracy: 0.2713 - loss: 1.8425 - val_accuracy: 0.5206 - val_loss: 1.1670\n",
      "Epoch 2/10\n",
      "\u001b[1m296/296\u001b[0m \u001b[32m━━━━━━━━━━━━━━━━━━━━\u001b[0m\u001b[37m\u001b[0m \u001b[1m418s\u001b[0m 1s/step - accuracy: 0.4084 - loss: 1.4800 - val_accuracy: 0.4744 - val_loss: 1.3609\n",
      "Epoch 3/10\n",
      "\u001b[1m296/296\u001b[0m \u001b[32m━━━━━━━━━━━━━━━━━━━━\u001b[0m\u001b[37m\u001b[0m \u001b[1m419s\u001b[0m 1s/step - accuracy: 0.4851 - loss: 1.2903 - val_accuracy: 0.4594 - val_loss: 1.4674\n",
      "Epoch 4/10\n",
      "\u001b[1m296/296\u001b[0m \u001b[32m━━━━━━━━━━━━━━━━━━━━\u001b[0m\u001b[37m\u001b[0m \u001b[1m418s\u001b[0m 1s/step - accuracy: 0.5252 - loss: 1.2049 - val_accuracy: 0.4783 - val_loss: 1.3999\n"
     ]
    }
   ],
   "source": [
    "# STEP 7: Unfreeze base model\n",
    "base_model.trainable = True\n",
    "\n",
    "# Recompile with a lower learning rate for fine-tuning\n",
    "model.compile(\n",
    "    optimizer=tf.keras.optimizers.Adam(learning_rate=1e-5),\n",
    "    loss='sparse_categorical_crossentropy',\n",
    "    metrics=['accuracy']\n",
    ")\n",
    "\n",
    "# Optional: add early stopping and checkpointing\n",
    "early_stop = tf.keras.callbacks.EarlyStopping(monitor='val_loss', patience=3, restore_best_weights=True)\n",
    "\n",
    "# Retrain with unfrozen model\n",
    "history_finetune = model.fit(\n",
    "    train_ds,\n",
    "    validation_data=val_ds,\n",
    "    epochs=10,\n",
    "    callbacks=[early_stop]\n",
    ")\n"
   ]
  },
  {
   "cell_type": "code",
   "execution_count": 16,
   "id": "e3332ad4",
   "metadata": {},
   "outputs": [
    {
     "name": "stdout",
     "output_type": "stream",
     "text": [
      "Final Validation Accuracy: 51.00%\n"
     ]
    }
   ],
   "source": [
    "# Print final validation accuracy from history\n",
    "final_val_acc = history.history['val_accuracy'][-1]\n",
    "print(f\"Final Validation Accuracy: {final_val_acc * 100:.2f}%\")\n"
   ]
  },
  {
   "cell_type": "markdown",
   "id": "f352613c",
   "metadata": {},
   "source": [
    "# Step 8: Compile the Model\n",
    "Define optimizer, loss function, and evaluation metrics."
   ]
  },
  {
   "cell_type": "code",
   "execution_count": 19,
   "id": "0d8353ce",
   "metadata": {},
   "outputs": [],
   "source": [
    "# Save the trained model in Keras native format (.keras)\n",
    "model.save(\"E:/mobilenet_best_model.keras\")\n"
   ]
  },
  {
   "cell_type": "markdown",
   "id": "7598b224",
   "metadata": {},
   "source": [
    "# Step 9: Define Callbacks\n",
    "Use callbacks like EarlyStopping, ReduceLROnPlateau, and ModelCheckpoint."
   ]
  },
  {
   "cell_type": "code",
   "execution_count": 20,
   "id": "6b7d372d",
   "metadata": {
    "scrolled": true
   },
   "outputs": [
    {
     "data": {
      "image/png": "[encoded data removed]",
      "text/plain": [
       "<Figure size 1400x500 with 2 Axes>"
      ]
     },
     "metadata": {},
     "output_type": "display_data"
    }
   ],
   "source": [
    "import matplotlib.pyplot as plt\n",
    "import numpy as np\n",
    "import seaborn as sns\n",
    "from sklearn.metrics import confusion_matrix, classification_report\n",
    "\n",
    "# --- 1. Accuracy & Loss Graphs ---\n",
    "def plot_training_history(history):\n",
    "    acc = history.history['accuracy']\n",
    "    val_acc = history.history['val_accuracy']\n",
    "    loss = history.history['loss']\n",
    "    val_loss = history.history['val_loss']\n",
    "    epochs = range(len(acc))\n",
    "\n",
    "    plt.figure(figsize=(14,5))\n",
    "    plt.subplot(1,2,1)\n",
    "    plt.plot(epochs, acc, 'b-', label='Training Accuracy')\n",
    "    plt.plot(epochs, val_acc, 'r-', label='Validation Accuracy')\n",
    "    plt.title('Training and Validation Accuracy')\n",
    "    plt.legend()\n",
    "\n",
    "    plt.subplot(1,2,2)\n",
    "    plt.plot(epochs, loss, 'b-', label='Training Loss')\n",
    "    plt.plot(epochs, val_loss, 'r-', label='Validation Loss')\n",
    "    plt.title('Training and Validation Loss')\n",
    "    plt.legend()\n",
    "    plt.show()\n",
    "\n",
    "plot_training_history(history)\n"
   ]
  },
  {
   "cell_type": "code",
   "execution_count": 22,
   "id": "fe18141d",
   "metadata": {},
   "outputs": [
    {
     "name": "stdout",
     "output_type": "stream",
     "text": [
      "Found 2810 files belonging to 7 classes.\n"
     ]
    }
   ],
   "source": [
    "val_ds = tf.keras.preprocessing.image_dataset_from_directory(\n",
    "    \"E:/final_dataset/val\",\n",
    "    image_size=IMG_SIZE,\n",
    "    batch_size=BATCH_SIZE,\n",
    "    label_mode='int',\n",
    "    shuffle=False  # Important: for alignment of labels with predictions\n",
    ")\n",
    "\n",
    "# Save class names before any further dataset processing\n",
    "class_names = val_ds.class_names\n",
    "\n",
    "# Now add prefetching or other steps\n",
    "val_ds = val_ds.prefetch(buffer_size=tf.data.AUTOTUNE)\n"
   ]
  },
  {
   "cell_type": "markdown",
   "id": "0ba4c0d2",
   "metadata": {},
   "source": [
    "# Step 10: Train the Model\n",
    "Fit the model using training and validation datasets."
   ]
  },
  {
   "cell_type": "code",
   "execution_count": 23,
   "id": "24c8daba",
   "metadata": {},
   "outputs": [
    {
     "data": {
      "image/png": "[encoded data removed]",
      "text/plain": [
       "<Figure size 1000x800 with 2 Axes>"
      ]
     },
     "metadata": {},
     "output_type": "display_data"
    },
    {
     "name": "stdout",
     "output_type": "stream",
     "text": [
      "\n",
      "Classification Report:\n",
      "\n",
      "              precision    recall  f1-score   support\n",
      "\n",
      "       angry       0.17      0.02      0.03       466\n",
      "     disgust       0.37      0.12      0.18       469\n",
      "        fear       0.20      0.00      0.00       468\n",
      "       happy       0.00      0.00      0.00       471\n",
      "     neutral       0.11      0.17      0.14       401\n",
      "         sad       0.16      0.67      0.25       466\n",
      "   surprised       0.00      0.00      0.00        69\n",
      "\n",
      "    accuracy                           0.16      2810\n",
      "   macro avg       0.15      0.14      0.09      2810\n",
      "weighted avg       0.17      0.16      0.10      2810\n",
      "\n"
     ]
    },
    {
     "name": "stderr",
     "output_type": "stream",
     "text": [
      "C:\\Users\\ALL\\AppData\\Local\\Programs\\Python\\Python310\\lib\\site-packages\\sklearn\\metrics\\_classification.py:1565: UndefinedMetricWarning: Precision is ill-defined and being set to 0.0 in labels with no predicted samples. Use `zero_division` parameter to control this behavior.\n",
      "  _warn_prf(average, modifier, f\"{metric.capitalize()} is\", len(result))\n",
      "C:\\Users\\ALL\\AppData\\Local\\Programs\\Python\\Python310\\lib\\site-packages\\sklearn\\metrics\\_classification.py:1565: UndefinedMetricWarning: Precision is ill-defined and being set to 0.0 in labels with no predicted samples. Use `zero_division` parameter to control this behavior.\n",
      "  _warn_prf(average, modifier, f\"{metric.capitalize()} is\", len(result))\n",
      "C:\\Users\\ALL\\AppData\\Local\\Programs\\Python\\Python310\\lib\\site-packages\\sklearn\\metrics\\_classification.py:1565: UndefinedMetricWarning: Precision is ill-defined and being set to 0.0 in labels with no predicted samples. Use `zero_division` parameter to control this behavior.\n",
      "  _warn_prf(average, modifier, f\"{metric.capitalize()} is\", len(result))\n"
     ]
    }
   ],
   "source": [
    "from sklearn.metrics import confusion_matrix, classification_report\n",
    "import seaborn as sns\n",
    "import matplotlib.pyplot as plt\n",
    "import numpy as np\n",
    "\n",
    "# Get true labels and predictions\n",
    "y_true = []\n",
    "y_pred = []\n",
    "\n",
    "for images, labels in val_ds:\n",
    "    preds = model.predict(images, verbose=0)\n",
    "    y_true.extend(labels.numpy())\n",
    "    y_pred.extend(np.argmax(preds, axis=1))\n",
    "\n",
    "# Confusion Matrix\n",
    "cm = confusion_matrix(y_true, y_pred)\n",
    "plt.figure(figsize=(10, 8))\n",
    "sns.heatmap(cm, annot=True, fmt='d', cmap='Blues', xticklabels=class_names, yticklabels=class_names)\n",
    "plt.title('Confusion Matrix')\n",
    "plt.xlabel('Predicted Label')\n",
    "plt.ylabel('True Label')\n",
    "plt.show()\n",
    "\n",
    "# Classification Report\n",
    "print(\"\\nClassification Report:\\n\")\n",
    "print(classification_report(y_true, y_pred, target_names=class_names))\n"
   ]
  },
  {
   "cell_type": "code",
   "execution_count": 24,
   "id": "a87b1d59",
   "metadata": {},
   "outputs": [],
   "source": [
    "import os\n",
    "import random\n",
    "import numpy as np\n",
    "from tensorflow.keras.utils import load_img, img_to_array\n",
    "\n",
    "def predict_on_sample_images(folder, model, class_names, img_size=(180, 180), count=5):\n",
    "    \"\"\"\n",
    "    Predicts emotion classes for random spectrograms from your dataset folder.\n",
    "\n",
    "    Parameters:\n",
    "    - folder (str): Path to your dataset (e.g., \"E:/final_dataset/val\")\n",
    "    - model: Trained Keras model\n",
    "    - class_names (list): List of class names in the same order as training\n",
    "    - img_size (tuple): Image size (should match model input size)\n",
    "    - count (int): Number of random predictions to show\n",
    "    \"\"\"\n",
    "\n",
    "    print(f\"\\nPredictions on {count} random samples:\\n\")\n",
    "    for _ in range(count):\n",
    "        # Pick a random class folder\n",
    "        class_dir = random.choice(os.listdir(folder))\n",
    "        class_path = os.path.join(folder, class_dir)\n",
    "\n",
    "        # Pick a random image from that folder\n",
    "        image_file = random.choice(os.listdir(class_path))\n",
    "        image_path = os.path.join(class_path, image_file)\n",
    "\n",
    "        # Load and preprocess the image\n",
    "        img = load_img(image_path, target_size=img_size)\n",
    "        img_array = img_to_array(img) / 255.0\n",
    "        img_array = np.expand_dims(img_array, axis=0)  # Shape: (1, height, width, channels)\n",
    "\n",
    "        # Predict\n",
    "        prediction = model.predict(img_array, verbose=0)\n",
    "        predicted_label = class_names[np.argmax(prediction)]\n",
    "\n",
    "        # Print result\n",
    "        print(f\"Image: {image_file}\")\n",
    "        print(f\"Actual Emotion: {class_dir}\")\n",
    "        print(f\"Predicted Emotion: {predicted_label}\")\n",
    "        print(\"-\" * 40)\n"
   ]
  },
  {
   "cell_type": "code",
   "execution_count": 28,
   "id": "2a3739b5",
   "metadata": {},
   "outputs": [
    {
     "name": "stdout",
     "output_type": "stream",
     "text": [
      "Found 2810 files belonging to 7 classes.\n"
     ]
    }
   ],
   "source": [
    "val_ds = tf.keras.preprocessing.image_dataset_from_directory(\n",
    "    \"E:/final_dataset/val\",\n",
    "    image_size=IMG_SIZE,\n",
    "    batch_size=BATCH_SIZE,\n",
    "    label_mode='int',\n",
    "    shuffle=False  # Important for predictions\n",
    ")\n",
    "\n",
    "# Save class names BEFORE prefetching\n",
    "class_names = val_ds.class_names\n",
    "\n",
    "# Add prefetching after saving class names\n",
    "val_ds = val_ds.prefetch(buffer_size=tf.data.AUTOTUNE)\n"
   ]
  },
  {
   "cell_type": "code",
   "execution_count": 3,
   "id": "fe1a951e",
   "metadata": {},
   "outputs": [],
   "source": [
    "from tensorflow import keras\n",
    "\n",
    "# Load the trained model in Keras native format\n",
    "model = keras.models.load_model(\"E:/mobilenet_best_model.keras\")\n"
   ]
  },
  {
   "cell_type": "code",
   "execution_count": 7,
   "id": "a3b2484c",
   "metadata": {},
   "outputs": [
    {
     "name": "stdout",
     "output_type": "stream",
     "text": [
      "Class names: ['angry', 'disgust', 'fear', 'happy', 'neutral', 'sad', 'surprised']\n"
     ]
    }
   ],
   "source": [
    "import os\n",
    "\n",
    "class_names = sorted(os.listdir(\"E:/final_dataset/val\"))\n",
    "print(\"Class names:\", class_names)\n"
   ]
  },
  {
   "cell_type": "code",
   "execution_count": 8,
   "id": "84930cb5",
   "metadata": {},
   "outputs": [],
   "source": [
    "import os, random\n",
    "import numpy as np\n",
    "from tensorflow.keras.preprocessing import image\n",
    "\n",
    "def predict_on_sample_images(folder, model, class_names, img_size, count=5):\n",
    "    files = []\n",
    "    for root, dirs, filenames in os.walk(folder):\n",
    "        for filename in filenames:\n",
    "            if filename.lower().endswith(\".png\"):\n",
    "                files.append(os.path.join(root, filename))\n",
    "\n",
    "    sampled_files = random.sample(files, count)\n",
    "    results = []\n",
    "\n",
    "    for img_path in sampled_files:\n",
    "        img = image.load_img(img_path, target_size=img_size)\n",
    "        img_array = image.img_to_array(img) / 255.0\n",
    "        img_array = np.expand_dims(img_array, axis=0)\n",
    "\n",
    "        pred = model.predict(img_array, verbose=0)\n",
    "        predicted_class = class_names[np.argmax(pred)]\n",
    "\n",
    "        # Extract actual label from folder name\n",
    "        actual_class = os.path.basename(os.path.dirname(img_path))\n",
    "\n",
    "        results.append({\n",
    "            \"filename\": os.path.basename(img_path),\n",
    "            \"actual\": actual_class,\n",
    "            \"predicted\": predicted_class\n",
    "        })\n",
    "\n",
    "    return results\n"
   ]
  },
  {
   "cell_type": "markdown",
   "id": "15c93428",
   "metadata": {},
   "source": [
    "# Step 11: Evaluate the Model\n",
    "Evaluate model performance on the validation dataset."
   ]
  },
  {
   "cell_type": "code",
   "execution_count": 11,
   "id": "b7662854",
   "metadata": {},
   "outputs": [
    {
     "name": "stdout",
     "output_type": "stream",
     "text": [
      "                   filename     actual  predicted  is_correct\n",
      "0       1090_ITS_SAD_XX.png        sad        sad        True\n",
      "1       1059_IEO_FEA_MD.png       fear    neutral       False\n",
      "2       YAF_seize_angry.png      angry    neutral       False\n",
      "3       1084_ITS_FEA_XX.png       fear    neutral       False\n",
      "4  03-01-08-01-02-02-02.png  surprised  surprised        True\n",
      "\n",
      "Accuracy on 5 samples: 40.00%\n",
      "Saved to E:/prediction_summary.csv\n"
     ]
    }
   ],
   "source": [
    "import pandas as pd\n",
    "\n",
    "# Step 1: Run the function\n",
    "results = predict_on_sample_images(\n",
    "    folder=\"E:/final_dataset/val\",\n",
    "    model=model,\n",
    "    class_names=class_names,\n",
    "    img_size=IMG_SIZE,\n",
    "    count=5\n",
    ")\n",
    "\n",
    "# Step 2: Add correctness\n",
    "for r in results:\n",
    "    r[\"is_correct\"] = r[\"actual\"] == r[\"predicted\"]\n",
    "\n",
    "# Step 3: Convert to DataFrame\n",
    "df_results = pd.DataFrame(results)\n",
    "\n",
    "# Step 4: Show results\n",
    "print(df_results)\n",
    "\n",
    "# Step 5: Accuracy summary\n",
    "accuracy = df_results[\"is_correct\"].mean() * 100\n",
    "print(f\"\\nAccuracy on {len(df_results)} samples: {accuracy:.2f}%\")\n",
    "\n",
    "# Step 6 (Optional): Save to CSV\n",
    "df_results.to_csv(\"E:/prediction_summary.csv\", index=False)\n",
    "print(\"Saved to E:/prediction_summary.csv\")\n"
   ]
  },
  {
   "cell_type": "code",
   "execution_count": null,
   "id": "3890b375",
   "metadata": {},
   "outputs": [],
   "source": []
  },
  {
   "cell_type": "code",
   "execution_count": null,
   "id": "78691957",
   "metadata": {},
   "outputs": [],
   "source": []
  }
 ],
 "metadata": {
  "kernelspec": {
   "display_name": "Python 3.10 (tfenv)",
   "language": "python",
   "name": "tfenv"
  },
  "language_info": {
   "codemirror_mode": {
    "name": "ipython",
    "version": 3
   },
   "file_extension": ".py",
   "mimetype": "text/x-python",
   "name": "python",
   "nbconvert_exporter": "python",
   "pygments_lexer": "ipython3",
   "version": "3.10.0"
  }
 },
 "nbformat": 4,
 "nbformat_minor": 5
}
