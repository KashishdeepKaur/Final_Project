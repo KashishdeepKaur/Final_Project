# VGG16-Based Emotion Recognition Model (90%+ Accuracy)
# Author: Generated via ChatGPT
# Goal: Train a robust model using transfer learning + fine-tuning

## ✅ Step 1: Imports & Setup
import tensorflow as tf
from tensorflow.keras.applications import VGG16
from tensorflow.keras.models import Model
from tensorflow.keras.layers import Dense, Dropout, GlobalAveragePooling2D, BatchNormalization
from tensorflow.keras.optimizers import Adam
from tensorflow.keras.preprocessing.image import ImageDataGenerator
from tensorflow.keras.callbacks import EarlyStopping, ModelCheckpoint, ReduceLROnPlateau
import numpy as np
import matplotlib.pyplot as plt
from sklearn.metrics import classification_report, confusion_matrix
import seaborn as sns
import os

## ✅ Step 2: Data Loaders
train_dir = "E:/final_dataset/train"
val_dir = "E:/final_dataset/val"

train_datagen = ImageDataGenerator(
    rescale=1./255,
    zoom_range=0.2,
    width_shift_range=0.1,
    height_shift_range=0.1,
    horizontal_flip=True
)

val_datagen = ImageDataGenerator(rescale=1./255)

train_generator = train_datagen.flow_from_directory(
    train_dir, target_size=(224, 224), batch_size=32,
    class_mode='categorical', shuffle=True
)

val_generator = val_datagen.flow_from_directory(
    val_dir, target_size=(224, 224), batch_size=32,
    class_mode='categorical', shuffle=False
)

class_names = list(train_generator.class_indices.keys())

## ✅ Step 3: Model Building - VGG16 + Custom Head
base_model = VGG16(include_top=False, weights='imagenet', input_shape=(224, 224, 3))
for layer in base_model.layers:
    layer.trainable = False

x = base_model.output
x = GlobalAveragePooling2D()(x)
x = Dense(256, activation='relu')(x)
x = BatchNormalization()(x)
x = Dropout(0.5)(x)
output = Dense(7, activation='softmax')(x)

model = Model(inputs=base_model.input, outputs=output)

## ✅ Print model summary
model.summary()

## ✅ Step 4: Compile Model (with Label Smoothing)
loss = tf.keras.losses.CategoricalCrossentropy(label_smoothing=0.1)

model.compile(optimizer=Adam(learning_rate=1e-4), loss=loss, metrics=['accuracy'])

callbacks = [
    EarlyStopping(monitor='val_loss', patience=7, restore_best_weights=True),
    ModelCheckpoint('best_vgg16.h5', monitor='val_accuracy', save_best_only=True),
    ReduceLROnPlateau(monitor='val_loss', factor=0.5, patience=3)
]

## ✅ Step 5: Train Base Model
history = model.fit(
    train_generator, validation_data=val_generator,
    epochs=30, callbacks=callbacks
)

## ✅ Step 6: Fine-Tuning Top Layers
for layer in base_model.layers[-8:]:
    layer.trainable = True

model.compile(optimizer=Adam(learning_rate=1e-5), loss=loss, metrics=['accuracy'])

history_fine = model.fit(
    train_generator, validation_data=val_generator,
    epochs=20, callbacks=callbacks
)

## ✅ Step 7: Test-Time Augmentation (TTA)
def predict_tta(model, generator, steps=5):
    preds = []
    for _ in range(steps):
        generator.reset()
        preds.append(model.predict(generator, verbose=0))
    return np.mean(preds, axis=0)

tta_preds = predict_tta(model, val_generator, steps=5)
tta_labels = np.argmax(tta_preds, axis=1)
true_labels = val_generator.classes

## ✅ Step 8: Evaluation - Confusion Matrix
plt.figure(figsize=(8, 6))
cm = confusion_matrix(true_labels, tta_labels)
sns.heatmap(cm, annot=True, fmt='d', cmap='Blues', xticklabels=class_names, yticklabels=class_names)
plt.xlabel('Predicted')
plt.ylabel('True')
plt.title('Confusion Matrix')
plt.show()

print(classification_report(true_labels, tta_labels, target_names=class_names))

## ✅ Step 9: Save Final Model
model.save("final_vgg16_model.h5")

## ✅ Step 10: Predict Single Image (Manual Test)
from tensorflow.keras.preprocessing import image

def predict_image(img_path):
    img = image.load_img(img_path, target_size=(224, 224))
    img_array = image.img_to_array(img) / 255.0
    img_array = np.expand_dims(img_array, axis=0)
    pred = model.predict(img_array)
    predicted_class = class_names[np.argmax(pred)]
    confidence = np.max(pred)
    print(f"Prediction: {predicted_class} ({confidence*100:.2f}%)")

# Example:
# predict_image("E:/final_dataset/val/angry/test1.png")
